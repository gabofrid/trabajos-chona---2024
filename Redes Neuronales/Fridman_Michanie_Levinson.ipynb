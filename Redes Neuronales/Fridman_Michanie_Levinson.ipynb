{
 "cells": [
  {
   "cell_type": "code",
   "execution_count": null,
   "metadata": {},
   "outputs": [],
   "source": [
    "# yo vuelvo el domingo, ahí ya puedo laburar, creo que se entrega el martes que viene, cualquier cosa avisenme, ni bien llegue ayudo con el trabajo - gaby "
   ]
  }
 ],
 "metadata": {
  "language_info": {
   "name": "python"
  }
 },
 "nbformat": 4,
 "nbformat_minor": 2
}
